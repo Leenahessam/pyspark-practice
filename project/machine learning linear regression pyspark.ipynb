{
  "cells": [
    {
      "cell_type": "markdown",
      "metadata": {
        "id": "RMaQtuf3wJrm"
      },
      "source": [
        "# Lab 2 PySpark:\n",
        "\n",
        "### Machine Learning"
      ]
    },
    {
      "cell_type": "markdown",
      "metadata": {
        "id": "m_ImEN6zwJrx"
      },
      "source": [
        "#### But first, let's do some SQL :)"
      ]
    },
    {
      "cell_type": "markdown",
      "metadata": {
        "id": "0iij64y8wJrz"
      },
      "source": [
        "**First, install and import PySPark and SparkSession**"
      ]
    },
    {
      "cell_type": "code",
      "execution_count": 1,
      "metadata": {
        "colab": {
          "base_uri": "https://localhost:8080/"
        },
        "id": "v1mRJolqwJr0",
        "outputId": "881e32da-e937-47e1-e704-e2d21b3cdc11"
      },
      "outputs": [
        {
          "output_type": "stream",
          "name": "stdout",
          "text": [
            "Looking in indexes: https://pypi.org/simple, https://us-python.pkg.dev/colab-wheels/public/simple/\n",
            "Collecting pyspark\n",
            "  Downloading pyspark-3.3.0.tar.gz (281.3 MB)\n",
            "\u001b[K     |████████████████████████████████| 281.3 MB 48 kB/s \n",
            "\u001b[?25hCollecting py4j==0.10.9.5\n",
            "  Downloading py4j-0.10.9.5-py2.py3-none-any.whl (199 kB)\n",
            "\u001b[K     |████████████████████████████████| 199 kB 47.1 MB/s \n",
            "\u001b[?25hBuilding wheels for collected packages: pyspark\n",
            "  Building wheel for pyspark (setup.py) ... \u001b[?25l\u001b[?25hdone\n",
            "  Created wheel for pyspark: filename=pyspark-3.3.0-py2.py3-none-any.whl size=281764026 sha256=291ba5a866517e49f306bd9f726288a0be880412dde834a53e0185288de375d9\n",
            "  Stored in directory: /root/.cache/pip/wheels/7a/8e/1b/f73a52650d2e5f337708d9f6a1750d451a7349a867f928b885\n",
            "Successfully built pyspark\n",
            "Installing collected packages: py4j, pyspark\n",
            "Successfully installed py4j-0.10.9.5 pyspark-3.3.0\n"
          ]
        }
      ],
      "source": [
        "!pip install pyspark"
      ]
    },
    {
      "cell_type": "code",
      "execution_count": 2,
      "metadata": {
        "colab": {
          "base_uri": "https://localhost:8080/"
        },
        "id": "ei4gzVXrwJr2",
        "outputId": "5fe3e7cf-6271-408d-b331-2ff2d4f38046"
      },
      "outputs": [
        {
          "output_type": "stream",
          "name": "stdout",
          "text": [
            "Welcome to\n",
            "      ____              __\n",
            "     / __/__  ___ _____/ /__\n",
            "    _\\ \\/ _ \\/ _ `/ __/  '_/\n",
            "   /___/ .__/\\_,_/_/ /_/\\_\\   version 3.3.0\n",
            "      /_/\n",
            "                        \n",
            "Using Scala version 2.12.15, OpenJDK 64-Bit Server VM, 11.0.15\n",
            "Branch HEAD\n",
            "Compiled by user ubuntu on 2022-06-09T19:58:58Z\n",
            "Revision f74867bddfbcdd4d08076db36851e88b15e66556\n",
            "Url https://github.com/apache/spark\n",
            "Type --help for more information.\n"
          ]
        }
      ],
      "source": [
        "!pyspark --version"
      ]
    },
    {
      "cell_type": "code",
      "source": [
        "from pyspark.sql import SparkSession\n",
        "spark = SparkSession.builder.getOrCreate()"
      ],
      "metadata": {
        "id": "nILqZmN3xniz"
      },
      "execution_count": 3,
      "outputs": []
    },
    {
      "cell_type": "markdown",
      "metadata": {
        "id": "wAcm-ncmwJr2"
      },
      "source": [
        "**Now, download the dataset**"
      ]
    },
    {
      "cell_type": "code",
      "execution_count": 4,
      "metadata": {
        "colab": {
          "base_uri": "https://localhost:8080/"
        },
        "id": "gwBmub8vwJr3",
        "outputId": "5d791f96-af22-4a83-bd8e-b6e974b76c05"
      },
      "outputs": [
        {
          "output_type": "stream",
          "name": "stdout",
          "text": [
            "Downloading...\n",
            "From: https://drive.google.com/uc?id=1PB6wBDVTM_eocxOyi0lWlLBQOlH0rLe_\n",
            "To: /content/PatientInfo.csv\n",
            "\r  0% 0.00/489k [00:00<?, ?B/s]\r100% 489k/489k [00:00<00:00, 109MB/s]\n"
          ]
        }
      ],
      "source": [
        "!gdown https://drive.google.com/uc?id=1PB6wBDVTM_eocxOyi0lWlLBQOlH0rLe_ -O PatientInfo.csv"
      ]
    },
    {
      "cell_type": "markdown",
      "metadata": {
        "id": "gghSqIMOwJr6"
      },
      "source": [
        "**Create a SparkSession object and name the app \"Lab2\"**"
      ]
    },
    {
      "cell_type": "code",
      "execution_count": 5,
      "metadata": {
        "id": "bDzSBv1LwJr7"
      },
      "outputs": [],
      "source": [
        "from pyspark.sql import SparkSession\n",
        "ss = SparkSession.builder.appName(\"Lab2-G2\")"
      ]
    },
    {
      "cell_type": "code",
      "source": [
        "spark = SparkSession.builder.getOrCreate()"
      ],
      "metadata": {
        "id": "3z1FbKa6zy0N"
      },
      "execution_count": 6,
      "outputs": []
    },
    {
      "cell_type": "markdown",
      "metadata": {
        "id": "i83b8EKWwJr8"
      },
      "source": [
        "**1. Read the file PatientInfo.csv into a dataframe**"
      ]
    },
    {
      "cell_type": "code",
      "execution_count": 7,
      "metadata": {
        "id": "KI0dYJSewJr9"
      },
      "outputs": [],
      "source": [
        "patient = spark.read.option(\"header\", True).csv('PatientInfo.csv')"
      ]
    },
    {
      "cell_type": "markdown",
      "metadata": {
        "id": "pYUiZtCfwJr-"
      },
      "source": [
        "**Show the first 5 lines of the dataframe**"
      ]
    },
    {
      "cell_type": "code",
      "execution_count": 8,
      "metadata": {
        "colab": {
          "base_uri": "https://localhost:8080/"
        },
        "id": "Q5J4X1JzwJr-",
        "outputId": "0936e3ec-3de7-4c60-ef98-a25e469dab42"
      },
      "outputs": [
        {
          "output_type": "execute_result",
          "data": {
            "text/plain": [
              "[Row(patient_id='1000000001', sex='male', age='50s', country='Korea', province='Seoul', city='Gangseo-gu', infection_case='overseas inflow', infected_by=None, contact_number='75', symptom_onset_date='2020-01-22', confirmed_date='2020-01-23', released_date='2020-02-05', deceased_date=None, state='released'),\n",
              " Row(patient_id='1000000002', sex='male', age='30s', country='Korea', province='Seoul', city='Jungnang-gu', infection_case='overseas inflow', infected_by=None, contact_number='31', symptom_onset_date=None, confirmed_date='2020-01-30', released_date='2020-03-02', deceased_date=None, state='released'),\n",
              " Row(patient_id='1000000003', sex='male', age='50s', country='Korea', province='Seoul', city='Jongno-gu', infection_case='contact with patient', infected_by='2002000001', contact_number='17', symptom_onset_date=None, confirmed_date='2020-01-30', released_date='2020-02-19', deceased_date=None, state='released'),\n",
              " Row(patient_id='1000000004', sex='male', age='20s', country='Korea', province='Seoul', city='Mapo-gu', infection_case='overseas inflow', infected_by=None, contact_number='9', symptom_onset_date='2020-01-26', confirmed_date='2020-01-30', released_date='2020-02-15', deceased_date=None, state='released'),\n",
              " Row(patient_id='1000000005', sex='female', age='20s', country='Korea', province='Seoul', city='Seongbuk-gu', infection_case='contact with patient', infected_by='1000000002', contact_number='2', symptom_onset_date=None, confirmed_date='2020-01-31', released_date='2020-02-24', deceased_date=None, state='released')]"
            ]
          },
          "metadata": {},
          "execution_count": 8
        }
      ],
      "source": [
        "patient.head(5)"
      ]
    },
    {
      "cell_type": "markdown",
      "metadata": {
        "id": "94JwbmrtwJr_"
      },
      "source": [
        "**Now do the same but using SQL select statement**"
      ]
    },
    {
      "cell_type": "markdown",
      "metadata": {
        "id": "p52vTOtmwJsA"
      },
      "source": [
        "1. Create a temporary view (table) called patients"
      ]
    },
    {
      "cell_type": "code",
      "execution_count": 9,
      "metadata": {
        "id": "AHWqqZwfwJsB"
      },
      "outputs": [],
      "source": [
        "patient.createOrReplaceTempView(\"patient\")"
      ]
    },
    {
      "cell_type": "markdown",
      "metadata": {
        "id": "03ZnBdRSwJsB"
      },
      "source": [
        "2. Use SELECT statement to select all columns from the dataframe"
      ]
    },
    {
      "cell_type": "code",
      "execution_count": 10,
      "metadata": {
        "colab": {
          "base_uri": "https://localhost:8080/"
        },
        "id": "PQOHIT2fwJsC",
        "outputId": "50867862-0607-4f35-c086-e1dfab687a38"
      },
      "outputs": [
        {
          "output_type": "stream",
          "name": "stdout",
          "text": [
            "+----------+------+---+-------+--------+------------+--------------------+-----------+--------------+------------------+--------------+-------------+-------------+--------+\n",
            "|patient_id|   sex|age|country|province|        city|      infection_case|infected_by|contact_number|symptom_onset_date|confirmed_date|released_date|deceased_date|   state|\n",
            "+----------+------+---+-------+--------+------------+--------------------+-----------+--------------+------------------+--------------+-------------+-------------+--------+\n",
            "|1000000001|  male|50s|  Korea|   Seoul|  Gangseo-gu|     overseas inflow|       null|            75|        2020-01-22|    2020-01-23|   2020-02-05|         null|released|\n",
            "|1000000002|  male|30s|  Korea|   Seoul| Jungnang-gu|     overseas inflow|       null|            31|              null|    2020-01-30|   2020-03-02|         null|released|\n",
            "|1000000003|  male|50s|  Korea|   Seoul|   Jongno-gu|contact with patient| 2002000001|            17|              null|    2020-01-30|   2020-02-19|         null|released|\n",
            "|1000000004|  male|20s|  Korea|   Seoul|     Mapo-gu|     overseas inflow|       null|             9|        2020-01-26|    2020-01-30|   2020-02-15|         null|released|\n",
            "|1000000005|female|20s|  Korea|   Seoul| Seongbuk-gu|contact with patient| 1000000002|             2|              null|    2020-01-31|   2020-02-24|         null|released|\n",
            "|1000000006|female|50s|  Korea|   Seoul|   Jongno-gu|contact with patient| 1000000003|            43|              null|    2020-01-31|   2020-02-19|         null|released|\n",
            "|1000000007|  male|20s|  Korea|   Seoul|   Jongno-gu|contact with patient| 1000000003|             0|              null|    2020-01-31|   2020-02-10|         null|released|\n",
            "|1000000008|  male|20s|  Korea|   Seoul|         etc|     overseas inflow|       null|             0|              null|    2020-02-02|   2020-02-24|         null|released|\n",
            "|1000000009|  male|30s|  Korea|   Seoul|   Songpa-gu|     overseas inflow|       null|            68|              null|    2020-02-05|   2020-02-21|         null|released|\n",
            "|1000000010|female|60s|  Korea|   Seoul| Seongbuk-gu|contact with patient| 1000000003|             6|              null|    2020-02-05|   2020-02-29|         null|released|\n",
            "|1000000011|female|50s|  China|   Seoul|Seodaemun-gu|     overseas inflow|       null|            23|              null|    2020-02-06|   2020-02-29|         null|released|\n",
            "|1000000012|  male|20s|  Korea|   Seoul|         etc|     overseas inflow|       null|             0|              null|    2020-02-07|   2020-02-27|         null|released|\n",
            "|1000000013|  male|80s|  Korea|   Seoul|   Jongno-gu|contact with patient| 1000000017|           117|              null|    2020-02-16|         null|         null|deceased|\n",
            "|1000000014|female|60s|  Korea|   Seoul|   Jongno-gu|contact with patient| 1000000013|            27|        2020-02-06|    2020-02-16|   2020-03-12|         null|released|\n",
            "|1000000015|  male|70s|  Korea|   Seoul|Seongdong-gu|    Seongdong-gu APT|       null|             8|        2020-02-11|    2020-02-19|         null|         null|released|\n",
            "|1000000016|  male|70s|  Korea|   Seoul|   Jongno-gu|contact with patient| 1000000017|          null|              null|    2020-02-19|   2020-03-11|         null|released|\n",
            "|1000000017|  male|70s|  Korea|   Seoul|   Jongno-gu|contact with patient| 1000000003|          null|              null|    2020-02-20|   2020-03-01|         null|released|\n",
            "|1000000018|  male|20s|  Korea|   Seoul|         etc|                 etc|       null|          null|              null|    2020-02-20|         null|         null|released|\n",
            "|1000000019|female|70s|  Korea|   Seoul|   Jongno-gu|contact with patient| 1000000021|          null|              null|    2020-02-20|   2020-03-08|         null|released|\n",
            "|1000000020|female|70s|  Korea|   Seoul|Seongdong-gu|    Seongdong-gu APT| 1000000015|          null|              null|    2020-02-20|         null|         null|released|\n",
            "+----------+------+---+-------+--------+------------+--------------------+-----------+--------------+------------------+--------------+-------------+-------------+--------+\n",
            "only showing top 20 rows\n",
            "\n"
          ]
        }
      ],
      "source": [
        "result = spark.sql(\"select * from patient\")\n",
        "result.show()"
      ]
    },
    {
      "cell_type": "markdown",
      "metadata": {
        "id": "G1z4Ya-kwJsC"
      },
      "source": [
        "3. Limit the output to only 5 rows *using SQL commands*"
      ]
    },
    {
      "cell_type": "code",
      "execution_count": 11,
      "metadata": {
        "colab": {
          "base_uri": "https://localhost:8080/"
        },
        "id": "VEbn8o3ZwJsD",
        "outputId": "37070e61-8b72-437a-d671-a2b89bf4638d"
      },
      "outputs": [
        {
          "output_type": "stream",
          "name": "stdout",
          "text": [
            "+----------+------+---+-------+--------+-----------+--------------------+-----------+--------------+------------------+--------------+-------------+-------------+--------+\n",
            "|patient_id|   sex|age|country|province|       city|      infection_case|infected_by|contact_number|symptom_onset_date|confirmed_date|released_date|deceased_date|   state|\n",
            "+----------+------+---+-------+--------+-----------+--------------------+-----------+--------------+------------------+--------------+-------------+-------------+--------+\n",
            "|1000000001|  male|50s|  Korea|   Seoul| Gangseo-gu|     overseas inflow|       null|            75|        2020-01-22|    2020-01-23|   2020-02-05|         null|released|\n",
            "|1000000002|  male|30s|  Korea|   Seoul|Jungnang-gu|     overseas inflow|       null|            31|              null|    2020-01-30|   2020-03-02|         null|released|\n",
            "|1000000003|  male|50s|  Korea|   Seoul|  Jongno-gu|contact with patient| 2002000001|            17|              null|    2020-01-30|   2020-02-19|         null|released|\n",
            "|1000000004|  male|20s|  Korea|   Seoul|    Mapo-gu|     overseas inflow|       null|             9|        2020-01-26|    2020-01-30|   2020-02-15|         null|released|\n",
            "|1000000005|female|20s|  Korea|   Seoul|Seongbuk-gu|contact with patient| 1000000002|             2|              null|    2020-01-31|   2020-02-24|         null|released|\n",
            "+----------+------+---+-------+--------+-----------+--------------------+-----------+--------------+------------------+--------------+-------------+-------------+--------+\n",
            "\n"
          ]
        }
      ],
      "source": [
        "result = spark.sql(\"select * from patient limit 5\")\n",
        "result.show()"
      ]
    },
    {
      "cell_type": "markdown",
      "metadata": {
        "id": "orMWMkQMwJsD"
      },
      "source": [
        "4. Select the count of males and females in the dataset"
      ]
    },
    {
      "cell_type": "code",
      "execution_count": 12,
      "metadata": {
        "colab": {
          "base_uri": "https://localhost:8080/"
        },
        "id": "sgvFxjWnwJsE",
        "outputId": "b41f6660-9f5f-4bec-ef57-af97e77cd7ea"
      },
      "outputs": [
        {
          "output_type": "stream",
          "name": "stdout",
          "text": [
            "+----+\n",
            "|   m|\n",
            "+----+\n",
            "|1825|\n",
            "+----+\n",
            "\n",
            "+----+\n",
            "|   f|\n",
            "+----+\n",
            "|2218|\n",
            "+----+\n",
            "\n"
          ]
        }
      ],
      "source": [
        "result = spark.sql(\"select count(sex) as m from patient where sex = 'male' \")\n",
        "result.show()\n",
        "result = spark.sql(\"select count(sex) as f from patient where sex = 'female' \")\n",
        "result.show()"
      ]
    },
    {
      "cell_type": "code",
      "source": [
        "result = spark.sql(\"select count(sex), sex from patient group by sex \")\n",
        "result.show()"
      ],
      "metadata": {
        "colab": {
          "base_uri": "https://localhost:8080/"
        },
        "id": "O6-nY9i15285",
        "outputId": "431a05ee-b4e2-44d9-a3b9-74e069fa915a"
      },
      "execution_count": 13,
      "outputs": [
        {
          "output_type": "stream",
          "name": "stdout",
          "text": [
            "+----------+------+\n",
            "|count(sex)|   sex|\n",
            "+----------+------+\n",
            "|         0|  null|\n",
            "|      2218|female|\n",
            "|      1825|  male|\n",
            "+----------+------+\n",
            "\n"
          ]
        }
      ]
    },
    {
      "cell_type": "markdown",
      "metadata": {
        "id": "Qde1Z-KjwJsE"
      },
      "source": [
        "5. Select the count of males and females *as percentage* (how many percent of the data are males and how many are females?)"
      ]
    },
    {
      "cell_type": "code",
      "source": [
        "result = spark.sql(\"SELECT sex, (count(sex) * 100.0 / (SELECT count(sex) from patient)) as percentage FROM patient group by sex\")\n",
        "result.show()"
      ],
      "metadata": {
        "colab": {
          "base_uri": "https://localhost:8080/"
        },
        "id": "5Gum6L5s8Vmx",
        "outputId": "b6630f6d-8c5f-43d5-b73b-e9f92bbf0925"
      },
      "execution_count": 14,
      "outputs": [
        {
          "output_type": "stream",
          "name": "stdout",
          "text": [
            "+------+-----------------+\n",
            "|   sex|       percentage|\n",
            "+------+-----------------+\n",
            "|  null|            0E-14|\n",
            "|female|54.86025228790502|\n",
            "|  male|45.13974771209498|\n",
            "+------+-----------------+\n",
            "\n"
          ]
        }
      ]
    },
    {
      "cell_type": "markdown",
      "metadata": {
        "id": "AdbutOY7wJsF"
      },
      "source": [
        "6. How many people did survive, and how many didn't?"
      ]
    },
    {
      "cell_type": "code",
      "execution_count": 15,
      "metadata": {
        "colab": {
          "base_uri": "https://localhost:8080/"
        },
        "id": "Juzxm6tFwJsG",
        "outputId": "36859b82-202c-4ea4-eeec-5115f7499959"
      },
      "outputs": [
        {
          "output_type": "stream",
          "name": "stdout",
          "text": [
            "+------------+\n",
            "|count(state)|\n",
            "+------------+\n",
            "|        2158|\n",
            "|        2929|\n",
            "|          78|\n",
            "+------------+\n",
            "\n"
          ]
        }
      ],
      "source": [
        "result = spark.sql(\"select count(state) from patient group by state\")\n",
        "result.show()"
      ]
    },
    {
      "cell_type": "markdown",
      "metadata": {
        "id": "VqGugCDAwJsG"
      },
      "source": [
        "Now, let's perform some preprocessing using SQL:\n",
        "\n",
        "1. Convert *age* column to double after removing the 's' at the end -- *hint: check SUBSTRING method*\n",
        "2. Select only the following columns: `['sex', 'age', 'province', 'state']`\n",
        "3. Store the result of the query in a new dataframe"
      ]
    },
    {
      "cell_type": "code",
      "execution_count": 16,
      "metadata": {
        "colab": {
          "base_uri": "https://localhost:8080/"
        },
        "id": "Thi051-MwJsI",
        "outputId": "9b9997d6-a033-4437-81b2-43fb65f258cc"
      },
      "outputs": [
        {
          "output_type": "stream",
          "name": "stdout",
          "text": [
            "+------+----+--------+--------+\n",
            "|   sex| age|province|   state|\n",
            "+------+----+--------+--------+\n",
            "|  male|50.0|   Seoul|released|\n",
            "|  male|30.0|   Seoul|released|\n",
            "|  male|50.0|   Seoul|released|\n",
            "|  male|20.0|   Seoul|released|\n",
            "|female|20.0|   Seoul|released|\n",
            "|female|50.0|   Seoul|released|\n",
            "|  male|20.0|   Seoul|released|\n",
            "|  male|20.0|   Seoul|released|\n",
            "|  male|30.0|   Seoul|released|\n",
            "|female|60.0|   Seoul|released|\n",
            "|female|50.0|   Seoul|released|\n",
            "|  male|20.0|   Seoul|released|\n",
            "|  male|80.0|   Seoul|deceased|\n",
            "|female|60.0|   Seoul|released|\n",
            "|  male|70.0|   Seoul|released|\n",
            "|  male|70.0|   Seoul|released|\n",
            "|  male|70.0|   Seoul|released|\n",
            "|  male|20.0|   Seoul|released|\n",
            "|female|70.0|   Seoul|released|\n",
            "|female|70.0|   Seoul|released|\n",
            "+------+----+--------+--------+\n",
            "only showing top 20 rows\n",
            "\n"
          ]
        }
      ],
      "source": [
        "import pyspark\n",
        "from pyspark.sql.functions import col, substring\n",
        "newDF = spark.sql('select sex, double(substring(age, 0,2)) as age, province, state from patient')\n",
        "newDF.show()"
      ]
    },
    {
      "cell_type": "code",
      "source": [
        "result = spark.sql(\"select * from patient\")\n",
        "result.show()"
      ],
      "metadata": {
        "colab": {
          "base_uri": "https://localhost:8080/"
        },
        "id": "PHGm_SOJCJRe",
        "outputId": "a6361e94-dbba-43d8-c827-eb4fc046661a"
      },
      "execution_count": 17,
      "outputs": [
        {
          "output_type": "stream",
          "name": "stdout",
          "text": [
            "+----------+------+---+-------+--------+------------+--------------------+-----------+--------------+------------------+--------------+-------------+-------------+--------+\n",
            "|patient_id|   sex|age|country|province|        city|      infection_case|infected_by|contact_number|symptom_onset_date|confirmed_date|released_date|deceased_date|   state|\n",
            "+----------+------+---+-------+--------+------------+--------------------+-----------+--------------+------------------+--------------+-------------+-------------+--------+\n",
            "|1000000001|  male|50s|  Korea|   Seoul|  Gangseo-gu|     overseas inflow|       null|            75|        2020-01-22|    2020-01-23|   2020-02-05|         null|released|\n",
            "|1000000002|  male|30s|  Korea|   Seoul| Jungnang-gu|     overseas inflow|       null|            31|              null|    2020-01-30|   2020-03-02|         null|released|\n",
            "|1000000003|  male|50s|  Korea|   Seoul|   Jongno-gu|contact with patient| 2002000001|            17|              null|    2020-01-30|   2020-02-19|         null|released|\n",
            "|1000000004|  male|20s|  Korea|   Seoul|     Mapo-gu|     overseas inflow|       null|             9|        2020-01-26|    2020-01-30|   2020-02-15|         null|released|\n",
            "|1000000005|female|20s|  Korea|   Seoul| Seongbuk-gu|contact with patient| 1000000002|             2|              null|    2020-01-31|   2020-02-24|         null|released|\n",
            "|1000000006|female|50s|  Korea|   Seoul|   Jongno-gu|contact with patient| 1000000003|            43|              null|    2020-01-31|   2020-02-19|         null|released|\n",
            "|1000000007|  male|20s|  Korea|   Seoul|   Jongno-gu|contact with patient| 1000000003|             0|              null|    2020-01-31|   2020-02-10|         null|released|\n",
            "|1000000008|  male|20s|  Korea|   Seoul|         etc|     overseas inflow|       null|             0|              null|    2020-02-02|   2020-02-24|         null|released|\n",
            "|1000000009|  male|30s|  Korea|   Seoul|   Songpa-gu|     overseas inflow|       null|            68|              null|    2020-02-05|   2020-02-21|         null|released|\n",
            "|1000000010|female|60s|  Korea|   Seoul| Seongbuk-gu|contact with patient| 1000000003|             6|              null|    2020-02-05|   2020-02-29|         null|released|\n",
            "|1000000011|female|50s|  China|   Seoul|Seodaemun-gu|     overseas inflow|       null|            23|              null|    2020-02-06|   2020-02-29|         null|released|\n",
            "|1000000012|  male|20s|  Korea|   Seoul|         etc|     overseas inflow|       null|             0|              null|    2020-02-07|   2020-02-27|         null|released|\n",
            "|1000000013|  male|80s|  Korea|   Seoul|   Jongno-gu|contact with patient| 1000000017|           117|              null|    2020-02-16|         null|         null|deceased|\n",
            "|1000000014|female|60s|  Korea|   Seoul|   Jongno-gu|contact with patient| 1000000013|            27|        2020-02-06|    2020-02-16|   2020-03-12|         null|released|\n",
            "|1000000015|  male|70s|  Korea|   Seoul|Seongdong-gu|    Seongdong-gu APT|       null|             8|        2020-02-11|    2020-02-19|         null|         null|released|\n",
            "|1000000016|  male|70s|  Korea|   Seoul|   Jongno-gu|contact with patient| 1000000017|          null|              null|    2020-02-19|   2020-03-11|         null|released|\n",
            "|1000000017|  male|70s|  Korea|   Seoul|   Jongno-gu|contact with patient| 1000000003|          null|              null|    2020-02-20|   2020-03-01|         null|released|\n",
            "|1000000018|  male|20s|  Korea|   Seoul|         etc|                 etc|       null|          null|              null|    2020-02-20|         null|         null|released|\n",
            "|1000000019|female|70s|  Korea|   Seoul|   Jongno-gu|contact with patient| 1000000021|          null|              null|    2020-02-20|   2020-03-08|         null|released|\n",
            "|1000000020|female|70s|  Korea|   Seoul|Seongdong-gu|    Seongdong-gu APT| 1000000015|          null|              null|    2020-02-20|         null|         null|released|\n",
            "+----------+------+---+-------+--------+------------+--------------------+-----------+--------------+------------------+--------------+-------------+-------------+--------+\n",
            "only showing top 20 rows\n",
            "\n"
          ]
        }
      ]
    },
    {
      "cell_type": "markdown",
      "metadata": {
        "id": "xnLguFY6wJsI"
      },
      "source": [
        "Now view the new dataframe to make sure everything is alright"
      ]
    },
    {
      "cell_type": "code",
      "execution_count": 18,
      "metadata": {
        "colab": {
          "base_uri": "https://localhost:8080/"
        },
        "id": "yYjekYENwJsJ",
        "outputId": "48b43691-a306-4945-e7df-f95204c35fa5"
      },
      "outputs": [
        {
          "output_type": "stream",
          "name": "stdout",
          "text": [
            "+------+----+--------+--------+\n",
            "|   sex| age|province|   state|\n",
            "+------+----+--------+--------+\n",
            "|  male|50.0|   Seoul|released|\n",
            "|  male|30.0|   Seoul|released|\n",
            "|  male|50.0|   Seoul|released|\n",
            "|  male|20.0|   Seoul|released|\n",
            "|female|20.0|   Seoul|released|\n",
            "|female|50.0|   Seoul|released|\n",
            "|  male|20.0|   Seoul|released|\n",
            "|  male|20.0|   Seoul|released|\n",
            "|  male|30.0|   Seoul|released|\n",
            "|female|60.0|   Seoul|released|\n",
            "|female|50.0|   Seoul|released|\n",
            "|  male|20.0|   Seoul|released|\n",
            "|  male|80.0|   Seoul|deceased|\n",
            "|female|60.0|   Seoul|released|\n",
            "|  male|70.0|   Seoul|released|\n",
            "|  male|70.0|   Seoul|released|\n",
            "|  male|70.0|   Seoul|released|\n",
            "|  male|20.0|   Seoul|released|\n",
            "|female|70.0|   Seoul|released|\n",
            "|female|70.0|   Seoul|released|\n",
            "+------+----+--------+--------+\n",
            "only showing top 20 rows\n",
            "\n"
          ]
        }
      ],
      "source": [
        "newDF.show()"
      ]
    },
    {
      "cell_type": "markdown",
      "metadata": {
        "id": "Mxi3tUcPwJsJ"
      },
      "source": [
        "**Now, let's get back to spark operations**\n",
        "\n",
        "Please copy the following operations from your solution in Lab 1\n",
        "___"
      ]
    },
    {
      "cell_type": "markdown",
      "source": [
        ""
      ],
      "metadata": {
        "id": "b8jwBZ2YGRkG"
      }
    },
    {
      "cell_type": "markdown",
      "metadata": {
        "id": "mhN3Y_aDwJsK"
      },
      "source": [
        "Add a **is_dead** column if patient state is not released then it should yield true, else then False"
      ]
    },
    {
      "cell_type": "code",
      "execution_count": 19,
      "metadata": {
        "colab": {
          "base_uri": "https://localhost:8080/"
        },
        "id": "Nd-95uq2wJsK",
        "outputId": "ff2196da-00e3-4ec6-e973-0d424d974e87"
      },
      "outputs": [
        {
          "output_type": "stream",
          "name": "stdout",
          "text": [
            "+------+----+--------+--------+-------+\n",
            "|   sex| age|province|   state|is_dead|\n",
            "+------+----+--------+--------+-------+\n",
            "|  male|50.0|   Seoul|released|      1|\n",
            "|  male|30.0|   Seoul|released|      1|\n",
            "|  male|50.0|   Seoul|released|      1|\n",
            "|  male|20.0|   Seoul|released|      1|\n",
            "|female|20.0|   Seoul|released|      1|\n",
            "|female|50.0|   Seoul|released|      1|\n",
            "|  male|20.0|   Seoul|released|      1|\n",
            "|  male|20.0|   Seoul|released|      1|\n",
            "|  male|30.0|   Seoul|released|      1|\n",
            "|female|60.0|   Seoul|released|      1|\n",
            "|female|50.0|   Seoul|released|      1|\n",
            "|  male|20.0|   Seoul|released|      1|\n",
            "|  male|80.0|   Seoul|deceased|      0|\n",
            "|female|60.0|   Seoul|released|      1|\n",
            "|  male|70.0|   Seoul|released|      1|\n",
            "|  male|70.0|   Seoul|released|      1|\n",
            "|  male|70.0|   Seoul|released|      1|\n",
            "|  male|20.0|   Seoul|released|      1|\n",
            "|female|70.0|   Seoul|released|      1|\n",
            "|female|70.0|   Seoul|released|      1|\n",
            "+------+----+--------+--------+-------+\n",
            "only showing top 20 rows\n",
            "\n"
          ]
        }
      ],
      "source": [
        "from pyspark.sql.functions import *\n",
        "newDF = newDF.withColumn(\"is_dead\",when(col(\"state\") == 'released', 1).otherwise(0))\n",
        "newDF.show()"
      ]
    },
    {
      "cell_type": "code",
      "execution_count": null,
      "metadata": {
        "id": "tXDwFPimwJsL"
      },
      "outputs": [],
      "source": [
        ""
      ]
    },
    {
      "cell_type": "code",
      "execution_count": null,
      "metadata": {
        "id": "HgBzqTY6wJsL"
      },
      "outputs": [],
      "source": [
        ""
      ]
    },
    {
      "cell_type": "markdown",
      "metadata": {
        "id": "m40FT1eBwJsL"
      },
      "source": [
        "**Please split the data into train and test dataframes**\n",
        "\n",
        "*Ratio: 80:20 - Seed=42*"
      ]
    },
    {
      "cell_type": "code",
      "execution_count": 20,
      "metadata": {
        "id": "a-s-PSuvwJsM"
      },
      "outputs": [],
      "source": [
        "trainDF, testDF = newDF.randomSplit(weights=[0.8,0.2], seed=42)"
      ]
    },
    {
      "cell_type": "code",
      "source": [
        ""
      ],
      "metadata": {
        "id": "cj8B0J0HImgB"
      },
      "execution_count": null,
      "outputs": []
    },
    {
      "cell_type": "code",
      "execution_count": 21,
      "metadata": {
        "colab": {
          "base_uri": "https://localhost:8080/"
        },
        "id": "zUGvBlGEwJsN",
        "outputId": "bfc39937-cad3-439f-a660-95f8404d4475"
      },
      "outputs": [
        {
          "output_type": "stream",
          "name": "stdout",
          "text": [
            "+----+----+-----------+--------+-------+\n",
            "| sex| age|   province|   state|is_dead|\n",
            "+----+----+-----------+--------+-------+\n",
            "|null|null|Gyeonggi-do|isolated|      0|\n",
            "|null|null|Gyeonggi-do|isolated|      0|\n",
            "|null|null|Gyeonggi-do|isolated|      0|\n",
            "|null|null|Gyeonggi-do|isolated|      0|\n",
            "|null|null|Gyeonggi-do|isolated|      0|\n",
            "+----+----+-----------+--------+-------+\n",
            "only showing top 5 rows\n",
            "\n"
          ]
        }
      ],
      "source": [
        "testDF.show(5)"
      ]
    },
    {
      "cell_type": "markdown",
      "metadata": {
        "id": "9fFlpCLiwJsN"
      },
      "source": [
        "**Now, let's import RandomForestClassifier and start our ML pipeline**"
      ]
    },
    {
      "cell_type": "code",
      "execution_count": null,
      "metadata": {
        "id": "iPTJFHnZwJsO"
      },
      "outputs": [],
      "source": [
        ""
      ]
    },
    {
      "cell_type": "markdown",
      "metadata": {
        "id": "8SL7Y9sTwJsO"
      },
      "source": [
        "**Create a pipeline that contains the following stages:**\n",
        "\n",
        "- Imputer: impute the null values in `age` column to the mean value\n",
        "- StringIndexer: convert `sex` to `is_male` and `province` to `province_index` as numerical values\n",
        "- OneHotEncoder: perform one hot encoding on both `is_male` and -province_index`\n",
        "- VectorAssembler: assemble feature vector from the following columns: `'age', 'is_male', 'province_index'`\n",
        "- RandomForestClassifier: final estimator"
      ]
    },
    {
      "cell_type": "code",
      "execution_count": 22,
      "metadata": {
        "id": "Sw2H7zTUwJsP"
      },
      "outputs": [],
      "source": [
        "from pyspark.ml.feature import Imputer\n",
        "imputer = Imputer(inputCol='age', outputCol='age', strategy = 'mean')"
      ]
    },
    {
      "cell_type": "code",
      "execution_count": 23,
      "metadata": {
        "id": "ZxFNr4rdwJsP"
      },
      "outputs": [],
      "source": [
        "from pyspark.ml.feature import StringIndexer\n",
        "indexer = StringIndexer(inputCols=['sex','province'],outputCols = ['is_male1','province_index1'],handleInvalid = 'skip')"
      ]
    },
    {
      "cell_type": "code",
      "execution_count": 24,
      "metadata": {
        "id": "TpGQ4-ITwJsP"
      },
      "outputs": [],
      "source": [
        "from pyspark.ml.feature import OneHotEncoder, OneHotEncoderModel\n",
        "onehotencoder = OneHotEncoder(inputCols=['is_male1','province_index1'], outputCols=[\"is_male\",\"province_index\"])"
      ]
    },
    {
      "cell_type": "code",
      "source": [
        "from pyspark.ml.feature import VectorAssembler\n",
        "assembler = VectorAssembler(\n",
        "    inputCols=['age', 'is_male', 'province_index'],\n",
        "    outputCol=\"features\")\n"
      ],
      "metadata": {
        "id": "GdHNFTJNPfbW"
      },
      "execution_count": 25,
      "outputs": []
    },
    {
      "cell_type": "code",
      "source": [
        "from pyspark.ml.classification import RandomForestClassifier\n",
        "rf = RandomForestClassifier(featuresCol=\"features\",labelCol=\"is_dead\")"
      ],
      "metadata": {
        "id": "n3pj8brvPf5o"
      },
      "execution_count": 26,
      "outputs": []
    },
    {
      "cell_type": "markdown",
      "metadata": {
        "id": "WgXy6e9kwJsQ"
      },
      "source": [
        "Fit the pipeline to the train dataframe"
      ]
    },
    {
      "cell_type": "code",
      "execution_count": 27,
      "metadata": {
        "id": "Sg8ij7PgwJsQ"
      },
      "outputs": [],
      "source": [
        "from pyspark.ml import Pipeline\n",
        "pipeline = Pipeline(stages=[imputer, indexer, onehotencoder,assembler, rf])\n",
        "pipeline_model = pipeline.fit(trainDF)\n"
      ]
    },
    {
      "cell_type": "markdown",
      "metadata": {
        "id": "7Uj0xvfcwJsR"
      },
      "source": [
        "Now transform the test DF to get predictions"
      ]
    },
    {
      "cell_type": "code",
      "execution_count": 28,
      "metadata": {
        "id": "4tS6Z2OfwJsR"
      },
      "outputs": [],
      "source": [
        "pred = pipeline_model.transform(testDF)"
      ]
    },
    {
      "cell_type": "markdown",
      "metadata": {
        "id": "dYD1xZYowJsR"
      },
      "source": [
        "Show the final predictions DF"
      ]
    },
    {
      "cell_type": "code",
      "execution_count": 29,
      "metadata": {
        "colab": {
          "base_uri": "https://localhost:8080/"
        },
        "id": "G7VXCILEwJsS",
        "outputId": "01b8ce66-b4ad-45d2-ada7-77fda48a4c19"
      },
      "outputs": [
        {
          "output_type": "stream",
          "name": "stdout",
          "text": [
            "+------+-----------------+-----------------+--------+-------+--------+---------------+-------------+--------------+--------------------+--------------------+--------------------+----------+\n",
            "|   sex|              age|         province|   state|is_dead|is_male1|province_index1|      is_male|province_index|            features|       rawPrediction|         probability|prediction|\n",
            "+------+-----------------+-----------------+--------+-------+--------+---------------+-------------+--------------+--------------------+--------------------+--------------------+----------+\n",
            "|female|40.83025210084033|Chungcheongnam-do|released|      1|     0.0|            4.0|(1,[0],[1.0])|(16,[4],[1.0])|(18,[0,1,6],[40.8...|[4.41741004721493...|[0.22087050236074...|       1.0|\n",
            "|female|40.83025210084033|Chungcheongnam-do|released|      1|     0.0|            4.0|(1,[0],[1.0])|(16,[4],[1.0])|(18,[0,1,6],[40.8...|[4.41741004721493...|[0.22087050236074...|       1.0|\n",
            "|female|40.83025210084033|            Daegu|isolated|      0|     0.0|            6.0|(1,[0],[1.0])|(16,[6],[1.0])|(18,[0,1,8],[40.8...|[13.7569292825226...|[0.68784646412613...|       0.0|\n",
            "|female|40.83025210084033|      Gyeonggi-do|isolated|      0|     0.0|            2.0|(1,[0],[1.0])|(16,[2],[1.0])|(18,[0,1,4],[40.8...|[17.0260473337660...|[0.85130236668830...|       0.0|\n",
            "|female|40.83025210084033| Gyeongsangbuk-do|isolated|      0|     0.0|            1.0|(1,[0],[1.0])|(16,[1],[1.0])|(18,[0,1,3],[40.8...|[3.91694068556533...|[0.19584703427826...|       1.0|\n",
            "|female|40.83025210084033| Gyeongsangbuk-do|released|      1|     0.0|            1.0|(1,[0],[1.0])|(16,[1],[1.0])|(18,[0,1,3],[40.8...|[3.91694068556533...|[0.19584703427826...|       1.0|\n",
            "|female|40.83025210084033| Gyeongsangbuk-do|released|      1|     0.0|            1.0|(1,[0],[1.0])|(16,[1],[1.0])|(18,[0,1,3],[40.8...|[3.91694068556533...|[0.19584703427826...|       1.0|\n",
            "|female|40.83025210084033| Gyeongsangbuk-do|released|      1|     0.0|            1.0|(1,[0],[1.0])|(16,[1],[1.0])|(18,[0,1,3],[40.8...|[3.91694068556533...|[0.19584703427826...|       1.0|\n",
            "|female|40.83025210084033| Gyeongsangbuk-do|released|      1|     0.0|            1.0|(1,[0],[1.0])|(16,[1],[1.0])|(18,[0,1,3],[40.8...|[3.91694068556533...|[0.19584703427826...|       1.0|\n",
            "|female|40.83025210084033| Gyeongsangbuk-do|released|      1|     0.0|            1.0|(1,[0],[1.0])|(16,[1],[1.0])|(18,[0,1,3],[40.8...|[3.91694068556533...|[0.19584703427826...|       1.0|\n",
            "|female|40.83025210084033|          Incheon|isolated|      0|     0.0|            3.0|(1,[0],[1.0])|(16,[3],[1.0])|(18,[0,1,5],[40.8...|[11.0639644109175...|[0.55319822054587...|       0.0|\n",
            "|female|40.83025210084033|          Incheon|isolated|      0|     0.0|            3.0|(1,[0],[1.0])|(16,[3],[1.0])|(18,[0,1,5],[40.8...|[11.0639644109175...|[0.55319822054587...|       0.0|\n",
            "|female|40.83025210084033|          Incheon|isolated|      0|     0.0|            3.0|(1,[0],[1.0])|(16,[3],[1.0])|(18,[0,1,5],[40.8...|[11.0639644109175...|[0.55319822054587...|       0.0|\n",
            "|female|40.83025210084033|          Incheon|isolated|      0|     0.0|            3.0|(1,[0],[1.0])|(16,[3],[1.0])|(18,[0,1,5],[40.8...|[11.0639644109175...|[0.55319822054587...|       0.0|\n",
            "|female|40.83025210084033|          Incheon|isolated|      0|     0.0|            3.0|(1,[0],[1.0])|(16,[3],[1.0])|(18,[0,1,5],[40.8...|[11.0639644109175...|[0.55319822054587...|       0.0|\n",
            "|female|40.83025210084033|          Incheon|isolated|      0|     0.0|            3.0|(1,[0],[1.0])|(16,[3],[1.0])|(18,[0,1,5],[40.8...|[11.0639644109175...|[0.55319822054587...|       0.0|\n",
            "|female|40.83025210084033|          Incheon|isolated|      0|     0.0|            3.0|(1,[0],[1.0])|(16,[3],[1.0])|(18,[0,1,5],[40.8...|[11.0639644109175...|[0.55319822054587...|       0.0|\n",
            "|female|40.83025210084033|          Incheon|isolated|      0|     0.0|            3.0|(1,[0],[1.0])|(16,[3],[1.0])|(18,[0,1,5],[40.8...|[11.0639644109175...|[0.55319822054587...|       0.0|\n",
            "|female|40.83025210084033|          Incheon|isolated|      0|     0.0|            3.0|(1,[0],[1.0])|(16,[3],[1.0])|(18,[0,1,5],[40.8...|[11.0639644109175...|[0.55319822054587...|       0.0|\n",
            "|female|40.83025210084033|          Incheon|isolated|      0|     0.0|            3.0|(1,[0],[1.0])|(16,[3],[1.0])|(18,[0,1,5],[40.8...|[11.0639644109175...|[0.55319822054587...|       0.0|\n",
            "+------+-----------------+-----------------+--------+-------+--------+---------------+-------------+--------------+--------------------+--------------------+--------------------+----------+\n",
            "only showing top 20 rows\n",
            "\n"
          ]
        }
      ],
      "source": [
        "pred.show()"
      ]
    },
    {
      "cell_type": "code",
      "execution_count": 30,
      "metadata": {
        "colab": {
          "base_uri": "https://localhost:8080/"
        },
        "id": "ANFcbSogwJsS",
        "outputId": "4a46acdc-2ac3-4879-9a89-6de7024e6800"
      },
      "outputs": [
        {
          "output_type": "stream",
          "name": "stdout",
          "text": [
            "+----------------------------------------+-------+----------+\n",
            "|features                                |is_dead|prediction|\n",
            "+----------------------------------------+-------+----------+\n",
            "|(18,[0,1,6],[40.83025210084033,1.0,1.0])|1      |1.0       |\n",
            "|(18,[0,1,6],[40.83025210084033,1.0,1.0])|1      |1.0       |\n",
            "|(18,[0,1,8],[40.83025210084033,1.0,1.0])|0      |0.0       |\n",
            "|(18,[0,1,4],[40.83025210084033,1.0,1.0])|0      |0.0       |\n",
            "|(18,[0,1,3],[40.83025210084033,1.0,1.0])|0      |1.0       |\n",
            "+----------------------------------------+-------+----------+\n",
            "only showing top 5 rows\n",
            "\n"
          ]
        }
      ],
      "source": [
        "pred.select('features','is_dead','prediction').show(5,truncate=False)"
      ]
    },
    {
      "cell_type": "markdown",
      "metadata": {
        "id": "S-xsMl_IwJsS"
      },
      "source": [
        "**Model Evaluation**\n",
        "\n",
        "Now let's evaluate our model! Let's get the accuracy of our model"
      ]
    },
    {
      "cell_type": "code",
      "execution_count": 37,
      "metadata": {
        "id": "vCQkStFbwJsT",
        "colab": {
          "base_uri": "https://localhost:8080/"
        },
        "outputId": "ac188600-7f8a-4abc-c527-7456d9ff03ca"
      },
      "outputs": [
        {
          "output_type": "execute_result",
          "data": {
            "text/plain": [
              "0.8925925925925926"
            ]
          },
          "metadata": {},
          "execution_count": 37
        }
      ],
      "source": [
        "from sklearn import metrics\n",
        "metrics.accuracy_score(pred.select(\"is_dead\").toPandas(), pred.select(\"prediction\").toPandas())"
      ]
    },
    {
      "cell_type": "code",
      "execution_count": null,
      "metadata": {
        "id": "958IL482wJsT"
      },
      "outputs": [],
      "source": [
        ""
      ]
    },
    {
      "cell_type": "markdown",
      "metadata": {
        "id": "U7vNNJl8wJsT"
      },
      "source": [
        "Excellent! Now let's generate the confusion matrix of our predictions\n",
        "\n",
        "*Hint: we can use `scikit-learn`'s `classification_report`. You will need to transform the predictions into pandas DF first*"
      ]
    },
    {
      "cell_type": "code",
      "execution_count": 39,
      "metadata": {
        "id": "qM6G9SuzwJsU",
        "colab": {
          "base_uri": "https://localhost:8080/"
        },
        "outputId": "eefe8132-8425-4cfc-852a-5597dce3df1f"
      },
      "outputs": [
        {
          "output_type": "execute_result",
          "data": {
            "text/plain": [
              "array([[239,  67],\n",
              "       [ 20, 484]])"
            ]
          },
          "metadata": {},
          "execution_count": 39
        }
      ],
      "source": [
        "from sklearn.metrics import confusion_matrix\n",
        "confusion_matrix(pred.select(\"is_dead\").toPandas(), pred.select(\"prediction\").toPandas())\n"
      ]
    },
    {
      "cell_type": "code",
      "execution_count": null,
      "metadata": {
        "id": "_WWC9gbAwJsU"
      },
      "outputs": [],
      "source": [
        ""
      ]
    },
    {
      "cell_type": "markdown",
      "source": [
        ""
      ],
      "metadata": {
        "id": "Hv9w4m61Rli7"
      }
    },
    {
      "cell_type": "code",
      "execution_count": null,
      "metadata": {
        "id": "NMVS44DOwJsU"
      },
      "outputs": [],
      "source": [
        ""
      ]
    },
    {
      "cell_type": "markdown",
      "metadata": {
        "id": "C96ZsOhFwJsV"
      },
      "source": [
        "## Great Job!\n",
        "\n",
        "**If you followed the instructions correctly, you should get a total accuracy of 89%, and F1 scores of 92% and 85%**\n",
        "\n",
        "**Do you think you can improve this accuracy? Let's see what you can do :)**\n",
        "\n",
        "___\n",
        "If you have any questions you can reach out to me:\n",
        "\n",
        "### Omar Hammad\n",
        "#### Software Engineer\n",
        "##### Email: ommar365@gmail.com\n",
        "##### Phone: 01144070145\n",
        "##### Linkedin: https://www.linkedin.com/in/omar-a-hammad"
      ]
    }
  ],
  "metadata": {
    "kernelspec": {
      "display_name": "Python 3.9.10",
      "language": "python",
      "name": "python3"
    },
    "language_info": {
      "codemirror_mode": {
        "name": "ipython",
        "version": 3
      },
      "file_extension": ".py",
      "mimetype": "text/x-python",
      "name": "python",
      "nbconvert_exporter": "python",
      "pygments_lexer": "ipython3",
      "version": "3.9.10"
    },
    "orig_nbformat": 4,
    "vscode": {
      "interpreter": {
        "hash": "dd1a844898bebfcc6c6c504d1dc786ee6fa9d0c6b1f1b5f42f0cc60440be92ab"
      }
    },
    "colab": {
      "name": "leenah essam - Practical_Session_2_v2_finalversion.ipynb",
      "provenance": [],
      "collapsed_sections": []
    }
  },
  "nbformat": 4,
  "nbformat_minor": 0
}